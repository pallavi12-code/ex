{
  "nbformat": 4,
  "nbformat_minor": 0,
  "metadata": {
    "colab": {
      "provenance": [],
      "include_colab_link": true
    },
    "kernelspec": {
      "name": "python3",
      "display_name": "Python 3"
    },
    "language_info": {
      "name": "python"
    }
  },
  "cells": [
    {
      "cell_type": "markdown",
      "metadata": {
        "id": "view-in-github",
        "colab_type": "text"
      },
      "source": [
        "<a href=\"https://colab.research.google.com/github/pallavi12-code/ex/blob/main/DAA.ipynb\" target=\"_parent\"><img src=\"https://colab.research.google.com/assets/colab-badge.svg\" alt=\"Open In Colab\"/></a>"
      ]
    },
    {
      "cell_type": "code",
      "source": [
        "#min and max(divide and conquer)\n",
        "def minmax(arr):\n",
        "  low = 0\n",
        "  high = len(arr) - 1\n",
        "  if low == high:\n",
        "    return (arr[low], arr[low]) # return (min, max)\n",
        "  elif high == low + 1:\n",
        "    if arr[low] < arr[high]:\n",
        "      return (arr[low], arr[high]) # return (min, max)\n",
        "    else:\n",
        "      return (arr[high], arr[low]) # return (min, max)\n",
        "  else:\n",
        "    mid = int((low + high) / 2)\n",
        "    min1, max1 = minmax(arr[:mid+1])\n",
        "    min2, max2 = minmax(arr[mid+1:])\n",
        "    return (min(min1, min2), max(max1, max2))\n",
        "\n",
        "arr_str = input(\"enter the array (space-separated numbers): \")\n",
        "arr = [int(x) for x in arr_str.split()]\n",
        "min_val, max_val = minmax(arr)\n",
        "print(\"minimum value:\", min_val)\n",
        "print(\"maximum value:\", max_val)"
      ],
      "metadata": {
        "id": "H6mL1WEyDyhV",
        "colab": {
          "base_uri": "https://localhost:8080/"
        },
        "outputId": "2ca1dda1-f640-4797-f2b1-cd0b156facc9"
      },
      "execution_count": null,
      "outputs": [
        {
          "output_type": "stream",
          "name": "stdout",
          "text": [
            "enter the array (space-separated numbers): 3  22 36 33 22\n",
            "minimum value: 3\n",
            "maximum value: 36\n"
          ]
        }
      ]
    },
    {
      "cell_type": "code",
      "source": [
        "#MERGE SORT\n",
        "def merge_sort(s):\n",
        "  n=len(s)\n",
        "  if n<2:\n",
        "    return s\n",
        "  else:\n",
        "    mid=n//2\n",
        "    s1=s[0:mid]\n",
        "    print(\"s1:\",s1)\n",
        "    s2=s[mid:n]\n",
        "    print(\"s2:\",s2)\n",
        "    merge_sort(s1)\n",
        "    merge_sort(s2)\n",
        "    merge(s1,s2,s)\n",
        "    print(s)\n",
        "def merge(s1,s2,s):\n",
        "  i=j=0\n",
        "  while i+j<len(s):\n",
        "    if j==len(s2) or i<len(s1) and s1[i]<s2[j]:\n",
        "      s[i+j]=s1[i]\n",
        "      i+=1\n",
        "    else:\n",
        "      s[i+j]=s2[j]\n",
        "      j+=1\n",
        "n=int(input(\"enter n value\"))\n",
        "s=[]\n",
        "for i in range(n):\n",
        "  a=int(input(\"enter a value\"))\n",
        "  s.append(a)\n",
        "merge_sort(s)"
      ],
      "metadata": {
        "colab": {
          "base_uri": "https://localhost:8080/"
        },
        "id": "K6jzMrly5NzA",
        "outputId": "9c264329-b701-4e34-a088-59d2168f73b6"
      },
      "execution_count": null,
      "outputs": [
        {
          "output_type": "stream",
          "name": "stdout",
          "text": [
            "enter n value5\n",
            "enter a value7\n",
            "enter a value44\n",
            "enter a value90\n",
            "enter a value89\n",
            "enter a value1\n",
            "s1: [7, 44]\n",
            "s2: [90, 89, 1]\n",
            "s1: [7]\n",
            "s2: [44]\n",
            "[7, 44]\n",
            "s1: [90]\n",
            "s2: [89, 1]\n",
            "s1: [89]\n",
            "s2: [1]\n",
            "[1, 89]\n",
            "[1, 89, 90]\n",
            "[1, 7, 44, 89, 90]\n"
          ]
        }
      ]
    },
    {
      "cell_type": "code",
      "source": [
        "#QUICK SORT\n",
        "def quick_sort(s,a,b):\n",
        "  if a>=b:\n",
        "    return\n",
        "  else:\n",
        "   pivot=s[b]\n",
        "   left=a\n",
        "   right=b-1\n",
        "   while left<=right:\n",
        "    while left<=right and s[left]<pivot:\n",
        "      left+=1\n",
        "    while left<=right and pivot < s[right]:\n",
        "      right-=1\n",
        "    if left<=right:\n",
        "       s[left],s[right]=s[right],s[left]\n",
        "       left,right=left+1,right-1\n",
        "  s[left],s[b]=s[b],s[left]\n",
        "  print(s)\n",
        "  quick_sort(s,a,left-1)\n",
        "  quick_sort(s,left+1,b)\n",
        "n = int(input(\"Enter number of elements: \"))\n",
        "if n > 5:\n",
        "    print(\"Array size should be less than 5\")\n",
        "else:\n",
        "    S = []\n",
        "    for i in range(n):\n",
        "        ele = input(f\"Enter element {i+1}: \").strip()\n",
        "        S.append(ele)\n",
        "\n",
        "    if len(S) == 0:\n",
        "        print(\"Array is empty\")\n",
        "    else:\n",
        "        all_numbers = all(item.isdigit() for item in S)\n",
        "        all_alphabets = all(item.isalpha() for item in S)\n",
        "\n",
        "        if not (all_numbers or all_alphabets):\n",
        "            print(\"Datatype Error\")\n",
        "        else:\n",
        "            if all_numbers:\n",
        "                S = list(map(int, S))\n",
        "\n",
        "            print(\"Original array:\", S)\n",
        "            quick_sort(S, 0, len(S) - 1)\n",
        "            print(\"Sorted array:\", S)"
      ],
      "metadata": {
        "colab": {
          "base_uri": "https://localhost:8080/"
        },
        "id": "Cp-so9DJ5kK4",
        "outputId": "02d4e6ea-d637-41e8-d7fe-6f6d80a43212"
      },
      "execution_count": null,
      "outputs": [
        {
          "output_type": "stream",
          "name": "stdout",
          "text": [
            "Enter number of elements: 5\n",
            "Enter element 1: 33\n",
            "Enter element 2: 12\n",
            "Enter element 3: 11\n",
            "Enter element 4: 77\n",
            "Enter element 5: 55\n",
            "Original array: [33, 12, 11, 77, 55]\n",
            "[33, 12, 11, 55, 77]\n",
            "[11, 12, 33, 55, 77]\n",
            "[11, 12, 33, 55, 77]\n",
            "Sorted array: [11, 12, 33, 55, 77]\n"
          ]
        }
      ]
    },
    {
      "cell_type": "code",
      "source": [
        "def merge_sort(arr):\n",
        "    if len(arr) <= 1:\n",
        "        return arr\n",
        "\n",
        "    mid = len(arr) // 2\n",
        "    left_half = merge_sort(arr[:mid])\n",
        "    right_half = merge_sort(arr[mid:])\n",
        "\n",
        "    return merge(left_half, right_half)\n",
        "\n",
        "def merge(left, right):\n",
        "    result = []\n",
        "    i = j = 0\n",
        "\n",
        "    while i < len(left) and j < len(right):\n",
        "        if left[i] < right[j]:\n",
        "            result.append(left[i])\n",
        "            i += 1\n",
        "        else:\n",
        "            result.append(right[j])\n",
        "            j += 1\n",
        "\n",
        "    result.extend(left[i:])\n",
        "    result.extend(right[j:])\n",
        "    return result\n",
        "\n",
        "# --- Get dynamic input ---\n",
        "# User types something like: z e a c b x\n",
        "input_string = input(\"Enter alphabets separated by spaces: \")\n",
        "\n",
        "# Convert input to list\n",
        "input_list = input_string.split()\n",
        "\n",
        "# Sort using merge sort\n",
        "sorted_list = merge_sort(input_list)\n",
        "\n",
        "# Output result\n",
        "print(\"Sorted alphabets:\", sorted_list)\n"
      ],
      "metadata": {
        "colab": {
          "base_uri": "https://localhost:8080/"
        },
        "id": "7SJwW_oq4Ee-",
        "outputId": "09336cd5-14a2-421a-ceb8-105efd7af451"
      },
      "execution_count": null,
      "outputs": [
        {
          "output_type": "stream",
          "name": "stdout",
          "text": [
            "Enter alphabets separated by spaces: 'rinki' 'vas' 'reddy'\n",
            "Sorted alphabets: [\"'reddy'\", \"'rinki'\", \"'vas'\"]\n"
          ]
        }
      ]
    },
    {
      "cell_type": "code",
      "source": [
        "#min and max using the word\n",
        "def find_min_max(words, low, high):\n",
        "    if low == high:\n",
        "        return words[low], words[high]\n",
        "\n",
        "    if high == low + 1:\n",
        "        return (min(words[low], words[high]), max(words[low], words[high]))\n",
        "\n",
        "    mid = (low + high) // 2\n",
        "    min1, max1 = find_min_max(words, low, mid)\n",
        "    min2, max2 = find_min_max(words, mid + 1, high)\n",
        "\n",
        "    return (min(min1, min2), max(max1, max2))\n",
        "\n",
        "# Dynamic Input\n",
        "words = input(\"Enter words separated by space: \").split()\n",
        "\n",
        "if not words:\n",
        "    print(\"No words entered.\")\n",
        "else:\n",
        "    min_word, max_word = find_min_max(words, 0, len(words) - 1)\n",
        "    print(\"Minimum word (lexicographically):\", min_word)\n",
        "    print(\"Maximum word (lexicographically):\", max_word)\n"
      ],
      "metadata": {
        "colab": {
          "base_uri": "https://localhost:8080/"
        },
        "id": "QYf5zZc50TYL",
        "outputId": "925a9b51-7935-4e13-9baa-e595c6355382"
      },
      "execution_count": 1,
      "outputs": [
        {
          "output_type": "stream",
          "name": "stdout",
          "text": [
            "Enter words separated by space: rink raj vas kittu aoole mango\n",
            "Minimum word (lexicographically): aoole\n",
            "Maximum word (lexicographically): vas\n"
          ]
        }
      ]
    }
  ]
}